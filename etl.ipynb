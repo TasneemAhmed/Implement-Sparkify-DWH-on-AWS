{
 "cells": [
  {
   "cell_type": "code",
   "execution_count": 22,
   "id": "conservative-austria",
   "metadata": {},
   "outputs": [],
   "source": [
    "import psycopg2"
   ]
  },
  {
   "cell_type": "code",
   "execution_count": 23,
   "id": "identified-quantum",
   "metadata": {},
   "outputs": [],
   "source": [
    "%store -r conn_string "
   ]
  },
  {
   "cell_type": "code",
   "execution_count": 24,
   "id": "ready-leeds",
   "metadata": {},
   "outputs": [],
   "source": [
    "def execute_queries(tables_list, conn_string):\n",
    "    for query in tables_list:\n",
    "        try:\n",
    "            conn = psycopg2.connect(conn_string) \n",
    "            cur = conn.cursor()\n",
    "            cur.execute(query)\n",
    "            # conn.commit(): means to save changes\n",
    "            conn.commit()\n",
    "        except Exception as e:\n",
    "            print(e)\n",
    "            #reconnect & create cursor again because after first query execution, connection closed\n",
    "            conn = psycopg2.connect(conn_string) \n",
    "            cur = conn.cursor()"
   ]
  },
  {
   "cell_type": "code",
   "execution_count": 25,
   "id": "spare-malta",
   "metadata": {},
   "outputs": [],
   "source": [
    "%store -r trunc_staging_tables"
   ]
  },
  {
   "cell_type": "code",
   "execution_count": 26,
   "id": "silver-bidder",
   "metadata": {},
   "outputs": [],
   "source": [
    "%store -r insert_staging_tables"
   ]
  },
  {
   "cell_type": "code",
   "execution_count": 67,
   "id": "sustainable-middle",
   "metadata": {},
   "outputs": [],
   "source": [
    "%store -r trunc_dim_tables"
   ]
  },
  {
   "cell_type": "code",
   "execution_count": 76,
   "id": "quiet-literacy",
   "metadata": {},
   "outputs": [],
   "source": [
    "%store -r insert_dim_tables"
   ]
  },
  {
   "cell_type": "code",
   "execution_count": 77,
   "id": "narrow-trance",
   "metadata": {},
   "outputs": [],
   "source": [
    "%store -r insert_fact_table"
   ]
  },
  {
   "cell_type": "markdown",
   "id": "ultimate-judgment",
   "metadata": {},
   "source": [
    "### 3.1 Truncate staging tables (staging_events, staging_songs)"
   ]
  },
  {
   "cell_type": "code",
   "execution_count": 28,
   "id": "killing-builder",
   "metadata": {},
   "outputs": [],
   "source": [
    "execute_queries(trunc_staging_tables, conn_string)"
   ]
  },
  {
   "cell_type": "markdown",
   "id": "hydraulic-backup",
   "metadata": {},
   "source": [
    "### 3.2 Insert data from json files (in s3) to staging tables (in Redshift):staging_events, staging_songs"
   ]
  },
  {
   "cell_type": "code",
   "execution_count": 29,
   "id": "impressive-forestry",
   "metadata": {},
   "outputs": [],
   "source": [
    "execute_queries(insert_staging_tables, conn_string)"
   ]
  },
  {
   "cell_type": "markdown",
   "id": "fleet-investor",
   "metadata": {},
   "source": [
    "### 3.3 Truncate dimentions tables(users, songs, artists, time)"
   ]
  },
  {
   "cell_type": "code",
   "execution_count": null,
   "id": "incorrect-award",
   "metadata": {},
   "outputs": [],
   "source": [
    "execute_queries(trunc_dim_tables, conn_string)"
   ]
  },
  {
   "cell_type": "markdown",
   "id": "improved-chile",
   "metadata": {},
   "source": [
    "### 3.4 Insert data from staging tables to dimentions & fact table\n",
    "staging tables:staging_events, staging_songs (in redshift) to dimentions and fact tables (in Redshift):songs, artists, users, time, songPlay"
   ]
  },
  {
   "cell_type": "code",
   "execution_count": 78,
   "id": "miniature-outreach",
   "metadata": {},
   "outputs": [],
   "source": [
    "execute_queries(insert_dim_tables, conn_string)"
   ]
  },
  {
   "cell_type": "markdown",
   "id": "familiar-retailer",
   "metadata": {},
   "source": [
    "### 3.6 Insert data to Fact table"
   ]
  },
  {
   "cell_type": "code",
   "execution_count": 79,
   "id": "secret-tribute",
   "metadata": {},
   "outputs": [],
   "source": [
    "execute_queries(insert_fact_table, conn_string)"
   ]
  },
  {
   "cell_type": "code",
   "execution_count": null,
   "id": "composite-candle",
   "metadata": {},
   "outputs": [],
   "source": []
  }
 ],
 "metadata": {
  "kernelspec": {
   "display_name": "Python 3",
   "language": "python",
   "name": "python3"
  },
  "language_info": {
   "codemirror_mode": {
    "name": "ipython",
    "version": 3
   },
   "file_extension": ".py",
   "mimetype": "text/x-python",
   "name": "python",
   "nbconvert_exporter": "python",
   "pygments_lexer": "ipython3",
   "version": "3.8.5"
  }
 },
 "nbformat": 4,
 "nbformat_minor": 5
}
