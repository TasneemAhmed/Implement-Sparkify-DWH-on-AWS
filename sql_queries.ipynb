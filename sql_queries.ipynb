{
 "cells": [
  {
   "cell_type": "code",
   "execution_count": 109,
   "metadata": {},
   "outputs": [
    {
     "data": {
      "text/plain": [
       "\"'s3://udacity-dend/song-data/'\""
      ]
     },
     "execution_count": 109,
     "metadata": {},
     "output_type": "execute_result"
    }
   ],
   "source": [
    "import configparser\n",
    "config = configparser.ConfigParser()\n",
    "config.read_file(open('redshift_config.cfg'))\n",
    "\n",
    "log_data = config.get('S3', 'LOG_DATA')\n",
    "song_data = config.get('S3', 'SONG_DATA')\n",
    "\n",
    "aws_role = config.get('CLUSTER', 'AWS_ROLE')\n",
    "\n",
    "song_data"
   ]
  },
  {
   "cell_type": "code",
   "execution_count": 98,
   "metadata": {},
   "outputs": [],
   "source": [
    "create_staging_events_table = (\"\"\"\n",
    "create table if not exists staging_events(\n",
    "    artist varchar,\n",
    "    auth varchar,\n",
    "    firstName varchar,\n",
    "    gender varchar,\n",
    "    itemInSession int,\n",
    "    lastName varchar,\n",
    "    length double precision,\n",
    "    level varchar,\n",
    "    location varchar,\n",
    "    method varchar,\n",
    "    page varchar,\n",
    "    registration varchar,\n",
    "    sessionId int, \n",
    "    song varchar,\n",
    "    status int,\n",
    "    ts bigint,\n",
    "    userAgent varchar,\n",
    "    userId varchar\n",
    ")\n",
    "\"\"\"\n",
    ")"
   ]
  },
  {
   "cell_type": "code",
   "execution_count": 99,
   "metadata": {},
   "outputs": [],
   "source": [
    "# varchar(max): to avoid the error while insert data into staging_songs\"string length exceeds DDL length\"\n",
    "create_staging_songs_table = (\"\"\"\n",
    "create table if not exists staging_songs(\n",
    "    song_id varchar,\n",
    "    num_songs int,\n",
    "    title varchar(max),\n",
    "    artist_name varchar(max),\n",
    "    artist_latitude varchar,\n",
    "    year int,\n",
    "    duration double precision,\n",
    "    artist_id varchar,\n",
    "    artist_longtitude varchar,\n",
    "    artist_location varchar(max)\n",
    ")\n",
    "\"\"\"\n",
    ")"
   ]
  },
  {
   "cell_type": "code",
   "execution_count": 80,
   "metadata": {},
   "outputs": [],
   "source": [
    "create_users_dim = (\"\"\"\n",
    "create table if not exists users(\n",
    "    user_id varchar primary key sortkey,\n",
    "    first_name varchar,\n",
    "    last_name varchar,\n",
    "    gender varchar,\n",
    "    level varchar\n",
    ")\n",
    "\"\"\"\n",
    ")"
   ]
  },
  {
   "cell_type": "code",
   "execution_count": 81,
   "metadata": {},
   "outputs": [],
   "source": [
    "create_songs_dim = (\"\"\"\n",
    "create table if not exists songs(\n",
    "    song_id varchar primary key sortkey,\n",
    "    title varchar(max),\n",
    "    artist_id varchar REFERENCES artists(artist_id),\n",
    "    year int,\n",
    "    duration double precision\n",
    ")\n",
    "\"\"\"\n",
    ")"
   ]
  },
  {
   "cell_type": "code",
   "execution_count": 82,
   "metadata": {},
   "outputs": [],
   "source": [
    "create_artists_dim = (\"\"\"\n",
    "create table if not exists artists(\n",
    "    artist_id varchar primary key sortkey,\n",
    "    artist_name varchar(max),\n",
    "    location varchar(max),\n",
    "    longtitude varchar,\n",
    "    latitude varchar,\n",
    "    num_songs int\n",
    ")\n",
    "\"\"\"\n",
    ")"
   ]
  },
  {
   "cell_type": "code",
   "execution_count": 83,
   "metadata": {},
   "outputs": [],
   "source": [
    "create_time_dim = (\"\"\"\n",
    "create table if not exists time(\n",
    "    start_time timestamp primary key sortkey,\n",
    "    year int,\n",
    "    month int, \n",
    "    week int,\n",
    "    day int,\n",
    "    hour int,\n",
    "    is_weekend boolean\n",
    ")\n",
    "\"\"\"\n",
    ")"
   ]
  },
  {
   "cell_type": "code",
   "execution_count": 84,
   "metadata": {},
   "outputs": [],
   "source": [
    "create_songPlay_fact = (\"\"\"\n",
    "create table if not exists songPlay(\n",
    "    songplay_id int IDENTITY(0,1) SORTKEY,\n",
    "    start_time timestamp REFERENCES time(start_time),\n",
    "    artist_id varchar REFERENCES artists(artist_id),\n",
    "    song_id varchar REFERENCES songs(song_id),\n",
    "    user_id varchar REFERENCES users(user_id),\n",
    "    user_level varchar,\n",
    "    artist_location varchar(max),\n",
    "    user_agent varchar\n",
    ")\n",
    "\"\"\"\n",
    ")"
   ]
  },
  {
   "cell_type": "code",
   "execution_count": 112,
   "metadata": {},
   "outputs": [],
   "source": [
    "insert_to_staging_events = \"\"\"\n",
    "    copy public.staging_events from {0}\n",
    "    iam_role '{1}'\n",
    "    format as json 'auto';\n",
    "\"\"\".format(log_data, aws_role)"
   ]
  },
  {
   "cell_type": "code",
   "execution_count": 113,
   "metadata": {},
   "outputs": [],
   "source": [
    "insert_to_staging_songs = \"\"\"\n",
    "    copy public.staging_songs from {0}\n",
    "    iam_role '{1}'\n",
    "    format as json 'auto';\n",
    "\"\"\".format(song_data, aws_role)"
   ]
  },
  {
   "cell_type": "code",
   "execution_count": 114,
   "metadata": {},
   "outputs": [
    {
     "name": "stdout",
     "output_type": "stream",
     "text": [
      "\n",
      "    copy public.staging_events from 's3://udacity-dend/log-data/'\n",
      "    iam_role 'arn:aws:iam::616893511779:role/dwh_role'\n",
      "    format as json 'auto';\n",
      "\n"
     ]
    }
   ],
   "source": [
    "print(insert_to_staging_events)"
   ]
  },
  {
   "cell_type": "code",
   "execution_count": 115,
   "metadata": {},
   "outputs": [],
   "source": [
    "insert_users_dim = \"\"\"\n",
    "insert into users\n",
    "select \n",
    "    DISTINCT(userId)\n",
    "    firstName,\n",
    "    lastName,\n",
    "    gender,\n",
    "    level\n",
    "from staging_events\n",
    "where userId is not null\n",
    "\"\"\""
   ]
  },
  {
   "cell_type": "code",
   "execution_count": 116,
   "metadata": {},
   "outputs": [],
   "source": [
    "insert_artists_dim = \"\"\"\n",
    "insert into artists\n",
    "select \n",
    "    DISTINCT(artist_id),\n",
    "    artist_name,\n",
    "    artist_location,\n",
    "    artist_longtitude, \n",
    "    artist_latitude,\n",
    "    num_songs\n",
    "from staging_songs\n",
    "where artist_id is not null\n",
    "\"\"\""
   ]
  },
  {
   "cell_type": "code",
   "execution_count": 117,
   "metadata": {},
   "outputs": [],
   "source": [
    "insert_songs_dim = \"\"\"\n",
    "insert into songs\n",
    "select \n",
    "    DISTINCT(song_id),\n",
    "    title,\n",
    "    artist_id,\n",
    "    year,\n",
    "    duration\n",
    "from staging_songs\n",
    "where song_id is not null\n",
    "\"\"\""
   ]
  },
  {
   "cell_type": "markdown",
   "metadata": {},
   "source": [
    "Links to know more about epoch timestamp, how to convert from epoch to date and use date_part:\n",
    "- https://www.epochconverter.com/\n",
    "- https://www.fernandomc.com/posts/redshift-epochs-and-timestamps/\n",
    "- https://docs.aws.amazon.com/redshift/latest/dg/r_DATE_PART_function.html"
   ]
  },
  {
   "cell_type": "code",
   "execution_count": 118,
   "metadata": {},
   "outputs": [],
   "source": [
    "#The day of week date part returns an integer from 0-6, starting with Sunday. 5,6 are friday and saturday\n",
    "insert_time_dim = \"\"\"\n",
    "insert into time\n",
    "select\n",
    "   (timestamp 'epoch' + ts/1000 * interval '1 second')::timestamp AS start_time,\n",
    "   DATE_PART(year, start_time),\n",
    "   DATE_PART(month, start_time),\n",
    "   DATE_PART(week, start_time),\n",
    "   DATE_PART(day, start_time),\n",
    "   DATE_PART(hour, start_time),\n",
    "   case when DATE_PART(dow, start_time) in (5,6) then TRUE else FALSE \n",
    "   END\n",
    "from staging_events\n",
    "\"\"\""
   ]
  },
  {
   "cell_type": "code",
   "execution_count": 119,
   "metadata": {},
   "outputs": [],
   "source": [
    "insert_songPlay_fact = \"\"\"\n",
    "insert into songPlay(start_time, artist_id, song_id, user_id, user_level, artist_location, user_agent)\n",
    "select\n",
    "    DISTINCT((timestamp 'epoch' + ts/1000 * interval '1 second')::timestamp) AS start_time,\n",
    "    so.artist_id,\n",
    "    so.song_id,\n",
    "    se.userId,\n",
    "    se.level,\n",
    "    so.artist_location,\n",
    "    se.userAgent\n",
    "from staging_events se\n",
    "join staging_songs so\n",
    "on se.artist = so.artist_name\n",
    "and se.song = so.title\n",
    "where se.page = 'NextSong'\n",
    "\"\"\""
   ]
  },
  {
   "cell_type": "code",
   "execution_count": 120,
   "metadata": {},
   "outputs": [],
   "source": [
    "drop_staging_events = \"Drop table if exists staging_events\"\n",
    "drop_staging_songs = \"Drop table if exists staging_songs\"\n",
    "drop_time_dimention = \"Drop table if exists time CASCADE \"\n",
    "drop_users_dimention = \"Drop table if exists users CASCADE \"\n",
    "drop_artist_dimention = \"Drop table if exists artists CASCADE \"\n",
    "drop_song_dimention = \"Drop table if exists songs CASCADE \"\n",
    "drop_songPlay_fact = \"Drop table if exists songPlay\""
   ]
  },
  {
   "cell_type": "code",
   "execution_count": 121,
   "metadata": {},
   "outputs": [],
   "source": [
    "trunc_staging_events = \"truncate table staging_events\"\n",
    "trunc_staging_songs = \"truncate table staging_songs\""
   ]
  },
  {
   "cell_type": "code",
   "execution_count": 122,
   "metadata": {},
   "outputs": [],
   "source": [
    "trunc_users_dim= \"truncate table users\"\n",
    "trunc_songs_dim= \"truncate table songs\"\n",
    "trunc_artists_dim= \"truncate table artists\"\n",
    "trunc_time_dim= \"truncate table time\""
   ]
  },
  {
   "cell_type": "code",
   "execution_count": 123,
   "metadata": {},
   "outputs": [],
   "source": [
    "trunc_dim_tables = [trunc_users_dim, trunc_songs_dim, trunc_artists_dim, trunc_time_dim]"
   ]
  },
  {
   "cell_type": "code",
   "execution_count": 124,
   "metadata": {},
   "outputs": [],
   "source": [
    "drop_staging_tables = [drop_staging_events, drop_staging_songs]"
   ]
  },
  {
   "cell_type": "code",
   "execution_count": 125,
   "metadata": {},
   "outputs": [],
   "source": [
    "drop_dimFact_tables = [drop_time_dimention, drop_users_dimention, drop_artist_dimention, drop_song_dimention, drop_songPlay_fact]"
   ]
  },
  {
   "cell_type": "code",
   "execution_count": 126,
   "metadata": {},
   "outputs": [],
   "source": [
    "create_staging_tables = [create_staging_events_table, create_staging_songs_table]"
   ]
  },
  {
   "cell_type": "code",
   "execution_count": 127,
   "metadata": {},
   "outputs": [],
   "source": [
    "trunc_staging_tables = [trunc_staging_events, trunc_staging_songs]"
   ]
  },
  {
   "cell_type": "code",
   "execution_count": 128,
   "metadata": {},
   "outputs": [],
   "source": [
    "insert_staging_tables = [insert_to_staging_events, insert_to_staging_songs]"
   ]
  },
  {
   "cell_type": "code",
   "execution_count": 129,
   "metadata": {},
   "outputs": [],
   "source": [
    "create_dim_facts_tables = [create_users_dim, create_songs_dim, create_artists_dim, create_time_dim, create_songPlay_fact]"
   ]
  },
  {
   "cell_type": "code",
   "execution_count": 130,
   "metadata": {},
   "outputs": [],
   "source": [
    "insert_dim_tables = [insert_users_dim, insert_artists_dim, insert_songs_dim, insert_time_dim]"
   ]
  },
  {
   "cell_type": "code",
   "execution_count": 131,
   "metadata": {},
   "outputs": [],
   "source": [
    "insert_fact_table = [insert_songPlay_fact]"
   ]
  },
  {
   "cell_type": "markdown",
   "metadata": {},
   "source": [
    "- The %store magic command saves the specified variable and lets you pass the value of variables between two notebooks. Here’s how we can pass the variable value\n",
    "\n",
    "- If you notice, we deleted the variables inside the notebook after we stored them in %store . We were able to derive them in the second notebook because we never deleted them from %store"
   ]
  },
  {
   "cell_type": "code",
   "execution_count": 132,
   "metadata": {},
   "outputs": [
    {
     "name": "stdout",
     "output_type": "stream",
     "text": [
      "Stored 'drop_staging_tables' (list)\n"
     ]
    }
   ],
   "source": [
    "%store drop_staging_tables\n",
    "del drop_staging_tables"
   ]
  },
  {
   "cell_type": "code",
   "execution_count": 133,
   "metadata": {},
   "outputs": [
    {
     "name": "stdout",
     "output_type": "stream",
     "text": [
      "Stored 'drop_dimFact_tables' (list)\n"
     ]
    }
   ],
   "source": [
    "%store drop_dimFact_tables\n",
    "del drop_dimFact_tables"
   ]
  },
  {
   "cell_type": "code",
   "execution_count": 134,
   "metadata": {},
   "outputs": [
    {
     "name": "stdout",
     "output_type": "stream",
     "text": [
      "Stored 'create_staging_tables' (list)\n"
     ]
    }
   ],
   "source": [
    "%store create_staging_tables\n",
    "del create_staging_tables"
   ]
  },
  {
   "cell_type": "code",
   "execution_count": 135,
   "metadata": {},
   "outputs": [
    {
     "name": "stdout",
     "output_type": "stream",
     "text": [
      "Stored 'create_dim_facts_tables' (list)\n"
     ]
    }
   ],
   "source": [
    "%store create_dim_facts_tables\n",
    "del create_dim_facts_tables"
   ]
  },
  {
   "cell_type": "code",
   "execution_count": 136,
   "metadata": {},
   "outputs": [
    {
     "name": "stdout",
     "output_type": "stream",
     "text": [
      "Stored 'trunc_staging_tables' (list)\n"
     ]
    }
   ],
   "source": [
    "%store trunc_staging_tables\n",
    "del trunc_staging_tables"
   ]
  },
  {
   "cell_type": "code",
   "execution_count": 137,
   "metadata": {},
   "outputs": [
    {
     "name": "stdout",
     "output_type": "stream",
     "text": [
      "Stored 'insert_staging_tables' (list)\n"
     ]
    }
   ],
   "source": [
    "%store insert_staging_tables\n",
    "del insert_staging_tables"
   ]
  },
  {
   "cell_type": "code",
   "execution_count": 138,
   "metadata": {},
   "outputs": [
    {
     "name": "stdout",
     "output_type": "stream",
     "text": [
      "Stored 'trunc_dim_tables' (list)\n"
     ]
    }
   ],
   "source": [
    "%store trunc_dim_tables\n",
    "del trunc_dim_tables"
   ]
  },
  {
   "cell_type": "code",
   "execution_count": 139,
   "metadata": {},
   "outputs": [
    {
     "name": "stdout",
     "output_type": "stream",
     "text": [
      "Stored 'insert_dim_tables' (list)\n"
     ]
    }
   ],
   "source": [
    "%store insert_dim_tables\n",
    "del insert_dim_tables"
   ]
  },
  {
   "cell_type": "code",
   "execution_count": 140,
   "metadata": {},
   "outputs": [
    {
     "name": "stdout",
     "output_type": "stream",
     "text": [
      "Stored 'insert_fact_table' (list)\n"
     ]
    }
   ],
   "source": [
    "%store insert_fact_table\n",
    "del insert_fact_table"
   ]
  },
  {
   "cell_type": "code",
   "execution_count": null,
   "metadata": {},
   "outputs": [],
   "source": []
  }
 ],
 "metadata": {
  "kernelspec": {
   "display_name": "Python 3",
   "language": "python",
   "name": "python3"
  },
  "language_info": {
   "codemirror_mode": {
    "name": "ipython",
    "version": 3
   },
   "file_extension": ".py",
   "mimetype": "text/x-python",
   "name": "python",
   "nbconvert_exporter": "python",
   "pygments_lexer": "ipython3",
   "version": "3.8.5"
  }
 },
 "nbformat": 4,
 "nbformat_minor": 4
}
